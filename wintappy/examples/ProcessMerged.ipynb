{
 "cells": [
  {
   "cell_type": "markdown",
   "metadata": {},
   "source": [
    "# Copy files from merged into standard structure\n",
    "TODO: Some of this code \"fixes\" filenaming that needs to be pushed back into Wintap"
   ]
  },
  {
   "cell_type": "code",
   "execution_count": 1,
   "metadata": {},
   "outputs": [],
   "source": [
    "def parse_filename(filename):\n",
    "    \"\"\"\n",
    "    Legacy format: hostname=event_type+epoch_ts.parquet\n",
    "    New format:    hostname+event_type+epoch_ts.parquet\n",
    "    \"\"\"\n",
    "    if \"=\" in filename:\n",
    "        # Legacy\n",
    "        hostname = filename.split(\"=\")[0]\n",
    "        event_type = filename.split(\"=\")[1].rsplit(\"+\")[0]\n",
    "        data_capture_epoch = filename.split(\"=\")[1].rsplit(\"+\")[1].split(\".\")[0]\n",
    "    else:\n",
    "        hostname = filename.split(\"+\")[0]\n",
    "        event_type = filename.split(\"+\")[1]\n",
    "        # Drop the '.parquet' also\n",
    "        data_capture_epoch = filename.split(\"+\")[2].split(\".\")[0]\n",
    "    return hostname, event_type, int(data_capture_epoch)\n",
    "\n",
    "def win32_to_epoch(wts):\n",
    "    return wts/1e7 - 11644473600\n"
   ]
  },
  {
   "cell_type": "code",
   "execution_count": 2,
   "metadata": {},
   "outputs": [],
   "source": [
    "# Merged directory is flat, so no need for recursive listing\n",
    "import os\n",
    "import shutil\n",
    "from datetime import datetime, timedelta, timezone\n",
    "\n",
    "#srcdir=\"c:/ProgramData/Wintap/parquet/merged\"\n",
    "srcdir=\"c:/WintapData/wd3/merged\"\n",
    "local_path='c:/WintapData/wd3'\n",
    "\n",
    "for file in os.listdir(srcdir):\n",
    "     if file.endswith(\".parquet\"):\n",
    "        (hostname, event_type, data_capture_epoch) = parse_filename(file)\n",
    "        # Copy to standard structure\n",
    "        data_capture_ts = datetime.fromtimestamp(\n",
    "           int(win32_to_epoch(data_capture_epoch)), timezone.utc\n",
    "         )\n",
    "        datadpk = data_capture_ts.strftime(\"%Y%m%d\")\n",
    "        datahpk = data_capture_ts.strftime(\"%H\")\n",
    "        # Define fully-qualified local name\n",
    "        if any([x in event_type for x in ['tcp','udp']]):\n",
    "           # Special handling of TCP/UDP\n",
    "           proto=event_type[4:7]\n",
    "           # Force the correct supertype\n",
    "           event_type='raw_process_conn_incr'\n",
    "           local_file_path = f\"{local_path}/raw_sensor/{event_type}/dayPK={datadpk}/hourPK={datahpk}/proto={proto}\"\n",
    "        else:\n",
    "            match event_type:\n",
    "               case 'raw_file':\n",
    "                  event_type='raw_process_file'\n",
    "               case 'raw_processstop':\n",
    "                  event_type='raw_process_stop'\n",
    "               case 'raw_registry':\n",
    "                  event_type='raw_process_registry'\n",
    "            local_file_path = f\"{local_path}/raw_sensor/{event_type}/dayPK={datadpk}/hourPK={datahpk}\"\n",
    "        os.makedirs(local_file_path, exist_ok=True)\n",
    "        shutil.copy2(srcdir+'/'+file,local_file_path+'/'+file)\n",
    "        "
   ]
  },
  {
   "cell_type": "code",
   "execution_count": null,
   "metadata": {},
   "outputs": [],
   "source": []
  }
 ],
 "metadata": {
  "kernelspec": {
   "display_name": "Python 3",
   "language": "python",
   "name": "python3"
  },
  "language_info": {
   "codemirror_mode": {
    "name": "ipython",
    "version": 3
   },
   "file_extension": ".py",
   "mimetype": "text/x-python",
   "name": "python",
   "nbconvert_exporter": "python",
   "pygments_lexer": "ipython3",
   "version": "3.11.5"
  },
  "orig_nbformat": 4
 },
 "nbformat": 4,
 "nbformat_minor": 2
}
