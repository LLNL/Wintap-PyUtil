{
 "cells": [
  {
   "cell_type": "code",
   "execution_count": null,
   "metadata": {},
   "outputs": [],
   "source": [
    "import os\n",
    "\n",
    "import rawutil as ru\n",
    "from analytics.utils import get_car_query\n",
    "from database.wintap_duckdb import WintapDuckDB, WintapDuckDBOptions\n",
    "\n",
    "# initially, this will only work with a configured .env file in the top level directory.\n",
    "data_path=os.getenv('DATAPATH')\n",
    "\n",
    "# Initialize an in-memory db. Save reference in a variable and then set magic-duckdb environment. \n",
    "# Result is ability to use the same DB instance from python code and %dql/%%dql magics.\n",
    "# Also create views for every top-level type found in the current dataset.\n",
    "con=ru.init_db(data_path)\n",
    "options = WintapDuckDBOptions(con, data_path)\n",
    "wintap_duckdb = WintapDuckDB(options)"
   ]
  },
  {
   "cell_type": "code",
   "execution_count": null,
   "metadata": {},
   "outputs": [],
   "source": [
    "from analytics.utils import get_car_analytics\n",
    "from database.constants import PID_HASH, ANALYTICS_RESULTS_TABLE\n",
    "from datetime import datetime\n",
    "\n",
    "CAR_1 = \"CAR-2014-11-004\"\n",
    "analytics = get_car_analytics()\n",
    "\n",
    "#for analytic in analytics:\n",
    "\n",
    "results = wintap_duckdb.query(analytics[CAR_1].query_string)\n",
    "for _, row in results.iterrows():\n",
    "    wintap_duckdb.insert_analytics_table(analytics[CAR_1], row[PID_HASH])\n",
    "\n",
    "print(wintap_duckdb.query('select * from analytics_results limit 10'))\n",
    "\n",
    "# store results\n",
    "#wintap_duckdb.write_table(ANALYTICS_RESULTS_TABLE, datetime.now().strftime(\"%Y%m%d\"))\n"
   ]
  },
  {
   "cell_type": "code",
   "execution_count": null,
   "metadata": {},
   "outputs": [],
   "source": [
    "# what T&Ts are associated with an entry in the analytics table\n",
    "query = f\"select entity, analytic_id from {ANALYTICS_RESULTS_TABLE} limit 1\"\n",
    "result = wintap_duckdb.query(query)\n",
    "for _, row in result.iterrows():\n",
    "    analytic_id = row['analytic_id']\n",
    "    print(f\"Entity: {row['entity']}:\")\n",
    "    for entry in analytics[analytic_id].coverage:\n",
    "        print(f\"\\tTactic: {entry.tactics}, Technique(s): {entry.technique}\")"
   ]
  }
 ],
 "metadata": {
  "kernelspec": {
   "display_name": "wintap-pyutil",
   "language": "python",
   "name": "python3"
  },
  "language_info": {
   "codemirror_mode": {
    "name": "ipython",
    "version": 3
   },
   "file_extension": ".py",
   "mimetype": "text/x-python",
   "name": "python",
   "nbconvert_exporter": "python",
   "pygments_lexer": "ipython3",
   "version": "3.11.4"
  }
 },
 "nbformat": 4,
 "nbformat_minor": 2
}
