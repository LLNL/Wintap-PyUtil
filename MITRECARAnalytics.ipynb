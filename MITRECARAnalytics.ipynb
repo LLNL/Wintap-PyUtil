{
 "cells": [
  {
   "cell_type": "code",
   "execution_count": null,
   "metadata": {},
   "outputs": [],
   "source": [
    "import os\n",
    "\n",
    "import rawutil as ru\n",
    "from analytics.utils import get_car_query\n",
    "from database.wintap_duckdb import WintapDuckDB, WintapDuckDBOptions\n",
    "\n",
    "# initially, this will only work with a configured .env file in the top level directory.\n",
    "data_path=os.getenv('DATAPATH')\n",
    "\n",
    "# Initialize an in-memory db. Save reference in a variable and then set magic-duckdb environment. \n",
    "# Result is ability to use the same DB instance from python code and %dql/%%dql magics.\n",
    "# Also create views for every top-level type found in the current dataset.\n",
    "con=ru.init_db(data_path)\n",
    "options = WintapDuckDBOptions(con, data_path)\n",
    "wintap_duckdb = WintapDuckDB(options)"
   ]
  },
  {
   "cell_type": "code",
   "execution_count": null,
   "metadata": {},
   "outputs": [],
   "source": [
    "# example query running single MITRE CAR analytic\n",
    "car_query = get_car_query('car-2013-02-003')\n",
    "print(wintap_duckdb.query(car_query))"
   ]
  }
 ],
 "metadata": {
  "kernelspec": {
   "display_name": "wintap-pyutil",
   "language": "python",
   "name": "python3"
  },
  "language_info": {
   "codemirror_mode": {
    "name": "ipython",
    "version": 3
   },
   "file_extension": ".py",
   "mimetype": "text/x-python",
   "name": "python",
   "nbconvert_exporter": "python",
   "pygments_lexer": "ipython3",
   "version": "3.11.3"
  },
  "orig_nbformat": 4
 },
 "nbformat": 4,
 "nbformat_minor": 2
}
