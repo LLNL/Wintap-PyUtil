{
 "cells": [
  {
   "attachments": {},
   "cell_type": "markdown",
   "metadata": {},
   "source": [
    "# Helpers for using parquet via DuckDB\n",
    "* Initialize an in-memory database with views for all event types at an aggregation level.\n",
    "    * Note that views are basically pointers to the parquet files and use no memory.\n",
    "* Generate an event timeline chart (using SQL+Pandas)\n",
    "* Bonus: highlight events of interest (puttyx/notepad++/etc)"
   ]
  },
  {
   "cell_type": "code",
   "execution_count": null,
   "metadata": {},
   "outputs": [],
   "source": [
    "# Define imports, functions\n",
    "# This dataset_chooser() uses a .env file in the top level of this project. It needs to define DATAPATH as the top level of where your data sets are.\n",
    "# You can optionally define a DEFAULT_PATH pointing to a specific dataset. This provides the convenience of not having to select the dataset when restarting the notebook.\n",
    "# See .env-default for an example.\n",
    "# If there is no .env or the paths are invalid, dataset_chooser() defaults to users home directory.\n",
    "\n",
    "# To enable logging output to jupyter, uncomment the following 3 lines:\n",
    "#import logging\n",
    "#logger = logging.getLogger()\n",
    "#logger.setLevel(logging.DEBUG)\n",
    "%run notebookutil.py\n",
    "\n",
    "w_datasets=dataset_chooser()\n",
    "display(w_datasets)"
   ]
  },
  {
   "cell_type": "code",
   "execution_count": null,
   "metadata": {},
   "outputs": [],
   "source": [
    "# Initialize an in-memory db. Save reference in a variable and then set magic-duckdb environment. Result is ability to use the same DB instance from python code and %dql/%%dql magics.\n",
    "con=ru.init_db(w_datasets.selected) # ,agg_level='rolling')\n",
    "%dql -co con\n",
    "# Create views for every top-level type found in the current dataset.\n",
    "svd.init_db(con)\n",
    "# Display the list of tables/views\n",
    "%dql show tables"
   ]
  },
  {
   "attachments": {},
   "cell_type": "markdown",
   "metadata": {},
   "source": [
    "## Summarize event data and display in chart to help understand event distribution over time"
   ]
  },
  {
   "cell_type": "code",
   "execution_count": null,
   "metadata": {},
   "outputs": [],
   "source": [
    "# Tabular summary\n",
    "display(svd.table_summary(con,w_datasets.selected))"
   ]
  },
  {
   "cell_type": "code",
   "execution_count": null,
   "metadata": {},
   "outputs": [],
   "source": [
    "# Events over time. \n",
    "# Dynamically adjust the bucket size based on the dataset duration for the best resolution/performance.\n",
    "%dql create or replace macro tb(wts) as time_bucket(interval '1 day', to_timestamp_micros(win32_to_epoch(wts)))\n",
    "eventdf=svd.fetch_summary_data(con)\n",
    "svd.display_event_chart(eventdf)"
   ]
  },
  {
   "attachments": {},
   "cell_type": "markdown",
   "metadata": {},
   "source": [
    "# Complex example: "
   ]
  },
  {
   "cell_type": "code",
   "execution_count": null,
   "metadata": {},
   "outputs": [],
   "source": [
    "%%dql SELECT conn_id,\n",
    "    lag(total_size, 2, '-1') OVER win AS \"total_size-0\",\n",
    "    lag(total_size, 1, '-1') OVER win AS \"total_size-1\",\n",
    "    total_size AS \"total_size-2\",\n",
    "    lead(total_size, 1, '-1') OVER win AS \"total_size-3\",\n",
    "    lead(total_size, 2, '-1') OVER win AS \"total_size-4\"\n",
    "FROM process_conn_incr\n",
    "WINDOW win as (partition by conn_id order by conn_id, first_seen)\n",
    "ORDER BY conn_id"
   ]
  },
  {
   "cell_type": "code",
   "execution_count": null,
   "metadata": {},
   "outputs": [],
   "source": [
    "%dql select conn_id, first_seen, total_size from process_conn_incr where conn_id='FFFFCC7D22BD0496D4404602FBD90636' order by first_seen"
   ]
  },
  {
   "cell_type": "code",
   "execution_count": null,
   "metadata": {},
   "outputs": [],
   "source": []
  }
 ],
 "metadata": {
  "kernelspec": {
   "display_name": "wintap-pyutil",
   "language": "python",
   "name": "python3"
  },
  "language_info": {
   "codemirror_mode": {
    "name": "ipython",
    "version": 3
   },
   "file_extension": ".py",
   "mimetype": "text/x-python",
   "name": "python",
   "nbconvert_exporter": "python",
   "pygments_lexer": "ipython3",
   "version": "3.9.16"
  },
  "orig_nbformat": 4
 },
 "nbformat": 4,
 "nbformat_minor": 2
}
