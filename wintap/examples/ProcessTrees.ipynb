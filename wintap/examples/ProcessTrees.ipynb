{
 "cells": [
  {
   "cell_type": "markdown",
   "id": "49b2d583-50df-41a4-af65-c1ef90a60292",
   "metadata": {},
   "source": [
    "# Create Process Trees with Network Activity Graph\n",
    "The objective of this notebook is to create small, focused graphs for visualization to verify core patterns exist.\n",
    "To accomplish this, start with a small number of seed processes and perform iterative adjacency walks. These walks \n",
    "may intentionally skip or aggregate high-degree adjacenies to help keep the graph small.\n",
    "\n",
    "## Requires: \n",
    "* Stdview dataframes (loaded into wds variable of type WintapDataSet)\n",
    "    * process\n",
    "    * process_net_conn\n",
    "    * process_file\n",
    "\n",
    "## Known Issues:\n",
    "* Large graphs (>5000?) fail with a scipy error. Need to reproduce and capture the error\n",
    "* Colors aren't supported right now\n",
    "\n",
    "## Wishlist:\n",
    "* Add ability to display node/edge info with mouse hover\n",
    "    * https://stackoverflow.com/questions/61604636/adding-tooltip-for-nodes-in-python-networkx-graph\n",
    "* Add color/shape support to help identify areas of interest: host, node type (seed/root/parent), other\n",
    "* Add in more helper functions for additional types: registry/IP/etc."
   ]
  },
  {
   "cell_type": "markdown",
   "id": "12a6c720-94f1-4a87-b2e1-9ed324039131",
   "metadata": {
    "tags": []
   },
   "source": [
    "## Load Base Data and Define Seed Processes"
   ]
  },
  {
   "cell_type": "code",
   "execution_count": null,
   "id": "cc69c875",
   "metadata": {},
   "outputs": [],
   "source": [
    "# Define imports, functions\n",
    "# This dataset_chooser() requires a .env file in the top level of this project. It needs to define DATAPATH as the top level of where your data sets are.\n",
    "# See .env-default for an example.\n",
    "%run notebookutil.py\n",
    "%run wintapgraph.py\n",
    "\n",
    "w_datasets=dataset_chooser()\n",
    "display(w_datasets)"
   ]
  },
  {
   "cell_type": "code",
   "execution_count": null,
   "id": "8261f810",
   "metadata": {},
   "outputs": [],
   "source": [
    "wds=sv.WintapDataset(w_datasets.value)\n",
    "# Display 2 different summaries of the data, to give the user some awareness of its contents\n",
    "sv.show_events_chart(wds.pandasdf)\n",
    "sv.data_summary(wds.pandasdf)"
   ]
  },
  {
   "cell_type": "code",
   "execution_count": null,
   "id": "fb54f3ec-aea2-4fd6-86d1-f2f3d1f2284f",
   "metadata": {},
   "outputs": [],
   "source": [
    "# Filter to selected processes to use as seeds for the graph to build\n",
    "# Note: some processes are missing ProcessName, at least. These are likely cases where we only have TERM\n",
    "\n",
    "# Display a summary of seed processes. Its ok if this result too broad. At this point, better to have a few false positives than miss one.\n",
    "# Your mission: visually inspect and see if it seems right for the current data set.\n",
    "seed_processes=wds.search_process_name_in(['putty'])\n",
    "seed_processes.reset_index(drop = True, inplace = True)\n",
    "display(seed_processes.groupby(['hostname','process_name']).size())"
   ]
  },
  {
   "cell_type": "markdown",
   "id": "fff3d4a2-4183-4b8b-9123-de67c1749eed",
   "metadata": {},
   "source": [
    "## Create a graph starting from the seed processes and include parents and network activity. \n",
    "Network activity is added iteratively:\n",
    "'''\n",
    "Seed PidHashes->ConnIds->PidHashes->ConnIds->PidHashes->...\n",
    "'''\n",
    "With a few controls:\n",
    "* Skip typically high-degree new processes, such as svchost/ntoskrnl.\n",
    "* Skip adding any ConnId sets > 100. This is basically arbitrary but seems to do what I originally am after.\n",
    "    * A useful modification would be to find a way to combine the remote ends in the large sets:\n",
    "        * Are there multiple endpoints that are all the same distributed service like Outlook, Google, etc?\n",
    "        * These combined sets could then be added as a single node or ignored in a semantic way."
   ]
  },
  {
   "cell_type": "code",
   "execution_count": null,
   "id": "12c4f3d4-24b3-4af0-a754-6f0372bacf32",
   "metadata": {
    "tags": []
   },
   "outputs": [],
   "source": [
    "# Strategy is to recursively walk up the process tree from each seed, adding in parent processes as we go.\n",
    "# Use the resulting panda to create a networkx graph\n",
    "ptreedf = get_parents(get_parent_pid_hashes(seed_processes), seed_processes, wds.process)\n",
    "\n",
    "# The original method was to create the graph from the panda directly. However, it's not easy to customize\n",
    "#  and the next step will be to add most of the data from the panda as attributes.\n",
    "fullg=nx.Graph(name=\"Process Trees and Network\")\n",
    "\n",
    "print('Creating process trees')\n",
    "ptreedf = get_children(seed_processes['pid_hash'].unique(),ptreedf, wds.process)\n",
    "add_parent_child(fullg, ptreedf)\n",
    "print('Adding network activity for seeds')\n",
    "# Optionally add network activity for all nodes in the graph. \n",
    "# This is often to much graph detail to visualize well.\n",
    "#addNetworkActivity(fullG,fullG.nodes,wds.process_net_conn(),wds.process())\n",
    "# Add only for the seed processes. \n",
    "#add_network_activity(fullg,seed_processes['pid_hash'].unique(),wds.process_net_conn,wds.process)\n",
    "print('Drawing graph')\n",
    "# Labels\n",
    "label_dict = {n: fullg.nodes()[n]['label'] for n in fullg.nodes}\n",
    "# Colors\n",
    "# TODO add support for colors based on attributes in the graph.\n",
    "cmap = matplotlib.colors.ListedColormap(['dodgerblue', 'lightgray', 'darkorange'])\n",
    "node_types_map = {'Root': 0, 'Parent': 1, 'Seed': 2}\n",
    "\n",
    "plt.figure(figsize=(20, 14))\n",
    "# Kamada Kawai produces reasonable layouts and they are consistent. Spring has randomness which is annoying for repeatability.\n",
    "nx.draw_kamada_kawai(fullg, with_labels=True, labels=label_dict) #,node_color=node_types,cmap=cmap)\n",
    "#nx.draw_spring(fullG, with_labels=True, labels=labelDict) #,node_color=node_types,cmap=cmap)"
   ]
  },
  {
   "cell_type": "markdown",
   "id": "8b19ea77-a311-461d-8be9-ce30fc74078f",
   "metadata": {},
   "source": [
    "# Add only network activity for seed nodes"
   ]
  },
  {
   "cell_type": "code",
   "execution_count": null,
   "id": "eda38406-9025-498f-b3db-9bbd6dd95c7f",
   "metadata": {},
   "outputs": [],
   "source": [
    "# No process tree, just bare-bones network.\n",
    "netg=nx.Graph(name=\"Network Only\")\n",
    "add_proc_node_for(netg,seed_processes['pid_hash'].unique(),wds.process)\n",
    "\n",
    "add_network_activity(netg,seed_processes['pid_hash'].unique(),wds.process_net_conn,wds.process)\n",
    "\n",
    "plt.figure(figsize=(20, 20))\n",
    "label_dict = {n: netg.nodes()[n]['label'] for n in netg.nodes}\n",
    "nx.draw_kamada_kawai(netg, with_labels=True,labels=label_dict)"
   ]
  },
  {
   "cell_type": "markdown",
   "id": "1f6bb5ee",
   "metadata": {},
   "source": [
    "## Create a graph starting with an IP address\n"
   ]
  },
  {
   "cell_type": "code",
   "execution_count": null,
   "id": "40d1c590-03f1-4547-98eb-904726c619c6",
   "metadata": {},
   "outputs": [],
   "source": [
    "# Find network connections\n",
    "google_dns_pnc = wds.process_net_conn.loc[wds.process_net_conn['remote_ip_addr']=='8.8.8.8']\n",
    "display(google_dns_pnc)\n",
    "G = nx.Graph(name='Google DNS')\n",
    "add_all_network_activity(G,google_dns_pnc, wds.process)\n",
    "label_dict = {n: G.nodes()[n]['label'] for n in G.nodes}\n",
    "plt.figure(figsize=(20, 20))\n",
    "nx.draw_kamada_kawai(G, with_labels=True, labels=label_dict)"
   ]
  },
  {
   "cell_type": "markdown",
   "id": "89ca7f8d-b439-41de-947b-1ef9d745bbef",
   "metadata": {
    "tags": []
   },
   "source": [
    "# Add file activity for nodes"
   ]
  },
  {
   "cell_type": "code",
   "execution_count": null,
   "id": "b3bb5673-e5cf-4cb3-8ce7-845f6f2d7951",
   "metadata": {
    "tags": []
   },
   "outputs": [],
   "source": [
    "new_graph = fullg\n",
    "pid_hashes = seed_processes['pid_hash'].unique()\n",
    "add_file_activity(pid_hashes,new_graph,wds.process_file)\n",
    "label_dict = {n: new_graph.nodes()[n]['label'] for n in new_graph.nodes}\n",
    "plt.figure(figsize=(20, 20))\n",
    "nx.draw_spring(new_graph, with_labels=True, labels=label_dict)"
   ]
  },
  {
   "cell_type": "markdown",
   "id": "5b3bbd35-68ad-4295-8dad-bc6511c690ad",
   "metadata": {},
   "source": [
    "# Create a graph starting with file activity\n",
    "* Start with a search on filename\n",
    "* Using the unique MD5s, do another search for all files with those MD5s"
   ]
  },
  {
   "cell_type": "code",
   "execution_count": null,
   "id": "2eb823e3-18d4-4180-92a1-48c7d0fbaeec",
   "metadata": {},
   "outputs": [],
   "source": [
    "# Get all the process_file events with a filename containing a string.\n",
    "seed_files=wds.process_file.loc[wds.process_file['filename'].str.contains('note')]\n",
    "display(seed_files)\n",
    "\n",
    "fileG=nx.Graph(name='File Activity')\n",
    "\n",
    "add_all_file_activity(fileG,seed_files)\n",
    "display(fileG.nodes())\n",
    "label_dict = {n: fileG.nodes()[n]['label'] for n in fileG.nodes}\n",
    "\n",
    "plt.figure(figsize=(20, 20))\n",
    "nx.draw_spring(fileG, with_labels=True, labels=label_dict)\n"
   ]
  },
  {
   "cell_type": "code",
   "execution_count": null,
   "id": "5ff37f58-f948-4d77-be9b-658695c147ac",
   "metadata": {},
   "outputs": [],
   "source": []
  }
 ],
 "metadata": {
  "kernelspec": {
   "display_name": "Python 3 (ipykernel)",
   "language": "python",
   "name": "python3"
  },
  "language_info": {
   "codemirror_mode": {
    "name": "ipython",
    "version": 3
   },
   "file_extension": ".py",
   "mimetype": "text/x-python",
   "name": "python",
   "nbconvert_exporter": "python",
   "pygments_lexer": "ipython3",
   "version": "3.9.16"
  },
  "vscode": {
   "interpreter": {
    "hash": "0c9bc428a467241eff6361f3bdde8a07126a17d472ecf7fd8c8f69e27f262c19"
   }
  }
 },
 "nbformat": 4,
 "nbformat_minor": 5
}
